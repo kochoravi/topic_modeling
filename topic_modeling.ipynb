{
 "cells": [
  {
   "cell_type": "code",
   "execution_count": 110,
   "metadata": {},
   "outputs": [
    {
     "name": "stdout",
     "output_type": "stream",
     "text": [
      "Requirement already satisfied: nltk in /opt/conda/lib/python3.8/site-packages (3.5)\n",
      "Requirement already satisfied: regex in /opt/conda/lib/python3.8/site-packages (from nltk) (2020.10.11)\n",
      "Requirement already satisfied: click in /opt/conda/lib/python3.8/site-packages (from nltk) (7.1.2)\n",
      "Requirement already satisfied: joblib in /opt/conda/lib/python3.8/site-packages (from nltk) (0.16.0)\n",
      "Requirement already satisfied: tqdm in /opt/conda/lib/python3.8/site-packages (from nltk) (4.48.2)\n"
     ]
    }
   ],
   "source": [
    "! pip install nltk"
   ]
  },
  {
   "cell_type": "code",
   "execution_count": 5,
   "metadata": {},
   "outputs": [],
   "source": [
    "import os\n",
    "from nltk.tokenize import RegexpTokenizer\n",
    "from nltk.corpus import stopwords\n",
    "from nltk.stem.porter import PorterStemmer\n",
    "\n",
    "from sklearn.feature_extraction.text import TfidfVectorizer, CountVectorizer\n",
    "from sklearn.decomposition import NMF, LatentDirichletAllocation\n"
   ]
  },
  {
   "cell_type": "code",
   "execution_count": 13,
   "metadata": {},
   "outputs": [],
   "source": [
    "import pandas as pd"
   ]
  },
  {
   "cell_type": "code",
   "execution_count": 6,
   "metadata": {},
   "outputs": [],
   "source": [
    "def load_data(path,file_name):\n",
    "    \"\"\"\n",
    "    Input  : path and file_name\n",
    "    Purpose: loading text file\n",
    "    Output : list of paragraphs/documents and\n",
    "             title(initial 100 words considred as title of document)\n",
    "    \"\"\"\n",
    "    documents_list = []\n",
    "    titles=[]\n",
    "    with open( os.path.join(path, file_name) ,\"r\") as fin:\n",
    "        for line in fin.readlines():\n",
    "            text = line.strip()\n",
    "            documents_list.append(text)\n",
    "    print(\"Total Number of Documents:\",len(documents_list))\n",
    "    titles.append( text[0:min(len(text),100)] )\n",
    "    return documents_list,titles"
   ]
  },
  {
   "cell_type": "code",
   "execution_count": 24,
   "metadata": {},
   "outputs": [
    {
     "name": "stdout",
     "output_type": "stream",
     "text": [
      "topic_data.txt\ttopic_modeling.ipynb\r\n"
     ]
    }
   ],
   "source": [
    "!ls\n"
   ]
  },
  {
   "cell_type": "code",
   "execution_count": 7,
   "metadata": {},
   "outputs": [
    {
     "name": "stdout",
     "output_type": "stream",
     "text": [
      "Total Number of Documents: 4551\n"
     ]
    }
   ],
   "source": [
    "docs, titles = load_data('/home/jovyan/git/topic_modeling'\n",
    ", 'topic_data.txt')"
   ]
  },
  {
   "cell_type": "code",
   "execution_count": 8,
   "metadata": {},
   "outputs": [],
   "source": [
    "def preprocess_data(doc_set):\n",
    "    \"\"\"\n",
    "    Input  : docuemnt list\n",
    "    Purpose: preprocess text (tokenize, removing stopwords, and stemming)\n",
    "    Output : preprocessed text\n",
    "    \"\"\"\n",
    "    # initialize regex tokenizer\n",
    "    tokenizer = RegexpTokenizer(r'\\w+')\n",
    "    # create English stop words list\n",
    "    en_stop = set(stopwords.words('english'))\n",
    "    # Create p_stemmer of class PorterStemmer\n",
    "    p_stemmer = PorterStemmer()\n",
    "    # list for tokenized documents in loop\n",
    "    texts = []\n",
    "    # loop through document list\n",
    "    for i in doc_set:\n",
    "        # clean and tokenize document string\n",
    "        raw = i.lower()\n",
    "        tokens = tokenizer.tokenize(raw)\n",
    "        # remove stop words from tokens\n",
    "        stopped_tokens = [i for i in tokens if not i in en_stop]\n",
    "        # stem tokens\n",
    "        stemmed_tokens = [p_stemmer.stem(i) for i in stopped_tokens]\n",
    "        # add tokens to list\n",
    "        stemmed_tokens = ' '.join(stemmed_tokens)\n",
    "        texts.append(stemmed_tokens)\n",
    "        \n",
    "    return texts"
   ]
  },
  {
   "cell_type": "code",
   "execution_count": 9,
   "metadata": {},
   "outputs": [],
   "source": [
    "prep_docs = preprocess_data(docs)"
   ]
  },
  {
   "cell_type": "code",
   "execution_count": 10,
   "metadata": {},
   "outputs": [
    {
     "data": {
      "text/plain": [
       "4551"
      ]
     },
     "execution_count": 10,
     "metadata": {},
     "output_type": "execute_result"
    }
   ],
   "source": [
    "len(prep_docs)"
   ]
  },
  {
   "cell_type": "code",
   "execution_count": 16,
   "metadata": {},
   "outputs": [],
   "source": [
    "def tfidf_vectorizer(prep_docs, n_features = 50, param_min_df = 2, param_max_df = 0.95):\n",
    "\n",
    "    print(\"Extracting tf-idf features ...\")\n",
    "    tfidf = TfidfVectorizer(max_df = param_max_df, min_df = param_min_df,\n",
    "                                       max_features=n_features,\n",
    "                                       stop_words='english')\n",
    "    # tfidf_vec_sparse = tfidf.fit_transform(docs)\n",
    "    tfidf_vec_sparse = tfidf.fit_transform(prep_docs)\n",
    "    feature_names = tfidf.get_feature_names()\n",
    "\n",
    "    return tfidf_vec_sparse, feature_names"
   ]
  },
  {
   "cell_type": "code",
   "execution_count": 17,
   "metadata": {},
   "outputs": [
    {
     "name": "stdout",
     "output_type": "stream",
     "text": [
      "Extracting tf-idf features ...\n"
     ]
    },
    {
     "data": {
      "text/html": [
       "<div>\n",
       "<style scoped>\n",
       "    .dataframe tbody tr th:only-of-type {\n",
       "        vertical-align: middle;\n",
       "    }\n",
       "\n",
       "    .dataframe tbody tr th {\n",
       "        vertical-align: top;\n",
       "    }\n",
       "\n",
       "    .dataframe thead th {\n",
       "        text-align: right;\n",
       "    }\n",
       "</style>\n",
       "<table border=\"1\" class=\"dataframe\">\n",
       "  <thead>\n",
       "    <tr style=\"text-align: right;\">\n",
       "      <th></th>\n",
       "      <th>ask</th>\n",
       "      <th>bank</th>\n",
       "      <th>brexit</th>\n",
       "      <th>campaign</th>\n",
       "      <th>chang</th>\n",
       "      <th>citi</th>\n",
       "      <th>clinton</th>\n",
       "      <th>come</th>\n",
       "      <th>countri</th>\n",
       "      <th>day</th>\n",
       "      <th>...</th>\n",
       "      <th>trump</th>\n",
       "      <th>uk</th>\n",
       "      <th>use</th>\n",
       "      <th>vote</th>\n",
       "      <th>want</th>\n",
       "      <th>way</th>\n",
       "      <th>week</th>\n",
       "      <th>work</th>\n",
       "      <th>world</th>\n",
       "      <th>year</th>\n",
       "    </tr>\n",
       "  </thead>\n",
       "  <tbody>\n",
       "    <tr>\n",
       "      <th>0</th>\n",
       "      <td>0.290731</td>\n",
       "      <td>0.855437</td>\n",
       "      <td>0.0</td>\n",
       "      <td>0.000000</td>\n",
       "      <td>0.000000</td>\n",
       "      <td>0.109713</td>\n",
       "      <td>0.000000</td>\n",
       "      <td>0.076709</td>\n",
       "      <td>0.000000</td>\n",
       "      <td>0.000000</td>\n",
       "      <td>...</td>\n",
       "      <td>0.000000</td>\n",
       "      <td>0.0</td>\n",
       "      <td>0.000000</td>\n",
       "      <td>0.000000</td>\n",
       "      <td>0.000000</td>\n",
       "      <td>0.075749</td>\n",
       "      <td>0.000000</td>\n",
       "      <td>0.000000</td>\n",
       "      <td>0.000000</td>\n",
       "      <td>0.058920</td>\n",
       "    </tr>\n",
       "    <tr>\n",
       "      <th>1</th>\n",
       "      <td>0.000000</td>\n",
       "      <td>0.000000</td>\n",
       "      <td>0.0</td>\n",
       "      <td>0.000000</td>\n",
       "      <td>0.000000</td>\n",
       "      <td>0.000000</td>\n",
       "      <td>0.737285</td>\n",
       "      <td>0.000000</td>\n",
       "      <td>0.000000</td>\n",
       "      <td>0.239646</td>\n",
       "      <td>...</td>\n",
       "      <td>0.487522</td>\n",
       "      <td>0.0</td>\n",
       "      <td>0.082145</td>\n",
       "      <td>0.108071</td>\n",
       "      <td>0.081123</td>\n",
       "      <td>0.000000</td>\n",
       "      <td>0.000000</td>\n",
       "      <td>0.000000</td>\n",
       "      <td>0.000000</td>\n",
       "      <td>0.000000</td>\n",
       "    </tr>\n",
       "    <tr>\n",
       "      <th>2</th>\n",
       "      <td>0.000000</td>\n",
       "      <td>0.000000</td>\n",
       "      <td>0.0</td>\n",
       "      <td>0.000000</td>\n",
       "      <td>0.000000</td>\n",
       "      <td>0.000000</td>\n",
       "      <td>0.000000</td>\n",
       "      <td>0.259301</td>\n",
       "      <td>0.320335</td>\n",
       "      <td>0.000000</td>\n",
       "      <td>...</td>\n",
       "      <td>0.000000</td>\n",
       "      <td>0.0</td>\n",
       "      <td>0.279841</td>\n",
       "      <td>0.000000</td>\n",
       "      <td>0.000000</td>\n",
       "      <td>0.000000</td>\n",
       "      <td>0.000000</td>\n",
       "      <td>0.000000</td>\n",
       "      <td>0.292588</td>\n",
       "      <td>0.000000</td>\n",
       "    </tr>\n",
       "    <tr>\n",
       "      <th>3</th>\n",
       "      <td>0.046292</td>\n",
       "      <td>0.000000</td>\n",
       "      <td>0.0</td>\n",
       "      <td>0.290619</td>\n",
       "      <td>0.000000</td>\n",
       "      <td>0.052408</td>\n",
       "      <td>0.141971</td>\n",
       "      <td>0.036642</td>\n",
       "      <td>0.000000</td>\n",
       "      <td>0.038455</td>\n",
       "      <td>...</td>\n",
       "      <td>0.586729</td>\n",
       "      <td>0.0</td>\n",
       "      <td>0.000000</td>\n",
       "      <td>0.052025</td>\n",
       "      <td>0.000000</td>\n",
       "      <td>0.000000</td>\n",
       "      <td>0.041094</td>\n",
       "      <td>0.000000</td>\n",
       "      <td>0.000000</td>\n",
       "      <td>0.000000</td>\n",
       "    </tr>\n",
       "    <tr>\n",
       "      <th>4</th>\n",
       "      <td>0.046648</td>\n",
       "      <td>0.000000</td>\n",
       "      <td>0.0</td>\n",
       "      <td>0.244046</td>\n",
       "      <td>0.171658</td>\n",
       "      <td>0.000000</td>\n",
       "      <td>0.429190</td>\n",
       "      <td>0.000000</td>\n",
       "      <td>0.091230</td>\n",
       "      <td>0.155004</td>\n",
       "      <td>...</td>\n",
       "      <td>0.650369</td>\n",
       "      <td>0.0</td>\n",
       "      <td>0.079698</td>\n",
       "      <td>0.104851</td>\n",
       "      <td>0.078705</td>\n",
       "      <td>0.072924</td>\n",
       "      <td>0.000000</td>\n",
       "      <td>0.034682</td>\n",
       "      <td>0.124992</td>\n",
       "      <td>0.056722</td>\n",
       "    </tr>\n",
       "  </tbody>\n",
       "</table>\n",
       "<p>5 rows × 50 columns</p>\n",
       "</div>"
      ],
      "text/plain": [
       "        ask      bank  brexit  campaign     chang      citi   clinton  \\\n",
       "0  0.290731  0.855437     0.0  0.000000  0.000000  0.109713  0.000000   \n",
       "1  0.000000  0.000000     0.0  0.000000  0.000000  0.000000  0.737285   \n",
       "2  0.000000  0.000000     0.0  0.000000  0.000000  0.000000  0.000000   \n",
       "3  0.046292  0.000000     0.0  0.290619  0.000000  0.052408  0.141971   \n",
       "4  0.046648  0.000000     0.0  0.244046  0.171658  0.000000  0.429190   \n",
       "\n",
       "       come   countri       day  ...     trump   uk       use      vote  \\\n",
       "0  0.076709  0.000000  0.000000  ...  0.000000  0.0  0.000000  0.000000   \n",
       "1  0.000000  0.000000  0.239646  ...  0.487522  0.0  0.082145  0.108071   \n",
       "2  0.259301  0.320335  0.000000  ...  0.000000  0.0  0.279841  0.000000   \n",
       "3  0.036642  0.000000  0.038455  ...  0.586729  0.0  0.000000  0.052025   \n",
       "4  0.000000  0.091230  0.155004  ...  0.650369  0.0  0.079698  0.104851   \n",
       "\n",
       "       want       way      week      work     world      year  \n",
       "0  0.000000  0.075749  0.000000  0.000000  0.000000  0.058920  \n",
       "1  0.081123  0.000000  0.000000  0.000000  0.000000  0.000000  \n",
       "2  0.000000  0.000000  0.000000  0.000000  0.292588  0.000000  \n",
       "3  0.000000  0.000000  0.041094  0.000000  0.000000  0.000000  \n",
       "4  0.078705  0.072924  0.000000  0.034682  0.124992  0.056722  \n",
       "\n",
       "[5 rows x 50 columns]"
      ]
     },
     "execution_count": 17,
     "metadata": {},
     "output_type": "execute_result"
    }
   ],
   "source": [
    "# tfidf_vec_sparse = tfidf.fit_transform(docs)\n",
    "tfidf_vec_sparse, feature_names = tfidf_vectorizer(prep_docs, n_features = 50, param_min_df = 2, param_max_df = 0.95)\n",
    "\n",
    "tfidf_vec_df = pd.DataFrame(tfidf_vec_sparse.toarray(), \n",
    "                        columns=tfidf.get_feature_names())\n",
    "tfidf_vec_df.head()"
   ]
  },
  {
   "cell_type": "code",
   "execution_count": null,
   "metadata": {},
   "outputs": [],
   "source": [
    "tfidf_vec_sparse.toarray().shape"
   ]
  },
  {
   "cell_type": "code",
   "execution_count": 50,
   "metadata": {},
   "outputs": [
    {
     "data": {
      "text/plain": [
       "LatentDirichletAllocation(learning_method='online', learning_offset=50.0,\n",
       "                          max_iter=5, random_state=0)"
      ]
     },
     "execution_count": 50,
     "metadata": {},
     "output_type": "execute_result"
    }
   ],
   "source": [
    "n_topics = 10\n",
    "from sklearn.decomposition import TruncatedSVD\n",
    "lsa = TruncatedSVD(n_components=n_topics, n_iter=100, random_state=42)\n",
    "lda = LatentDirichletAllocation(n_components=n_topics, max_iter=5,\n",
    "                                learning_method='online',\n",
    "                                learning_offset=50.,\n",
    "                                random_state=0)\n",
    "\n",
    "lsa.fit(tfidf_vec_sparse)\n",
    "lda.fit(tfidf_vec_sparse)"
   ]
  },
  {
   "cell_type": "code",
   "execution_count": null,
   "metadata": {},
   "outputs": [],
   "source": [
    "lsa"
   ]
  },
  {
   "cell_type": "code",
   "execution_count": 51,
   "metadata": {},
   "outputs": [],
   "source": [
    "emd = lsa.transform(tfidf_vec_sparse.toarray())"
   ]
  },
  {
   "cell_type": "code",
   "execution_count": 52,
   "metadata": {},
   "outputs": [
    {
     "data": {
      "text/plain": [
       "(4551, 10)"
      ]
     },
     "execution_count": 52,
     "metadata": {},
     "output_type": "execute_result"
    }
   ],
   "source": [
    "emd.shape"
   ]
  },
  {
   "cell_type": "code",
   "execution_count": 20,
   "metadata": {},
   "outputs": [],
   "source": [
    "sing_vals = lsa.singular_values_"
   ]
  },
  {
   "cell_type": "code",
   "execution_count": 53,
   "metadata": {},
   "outputs": [
    {
     "data": {
      "text/plain": [
       "<matplotlib.axes._subplots.AxesSubplot at 0x7fcbf0a00460>"
      ]
     },
     "execution_count": 53,
     "metadata": {},
     "output_type": "execute_result"
    },
    {
     "data": {
      "image/png": "[encoded data removed]",
      "text/plain": [
       "<Figure size 432x288 with 1 Axes>"
      ]
     },
     "metadata": {
      "needs_background": "light"
     },
     "output_type": "display_data"
    }
   ],
   "source": [
    "import seaborn as sns\n",
    "\n",
    "sns.barplot(x=list(range(len(sing_vals))), y = sing_vals)\n"
   ]
  },
  {
   "cell_type": "code",
   "execution_count": 32,
   "metadata": {},
   "outputs": [
    {
     "data": {
      "text/plain": [
       "(10, 50)"
      ]
     },
     "execution_count": 32,
     "metadata": {},
     "output_type": "execute_result"
    }
   ],
   "source": [
    "lsa.components_.shape"
   ]
  },
  {
   "cell_type": "code",
   "execution_count": 28,
   "metadata": {},
   "outputs": [],
   "source": [
    "def print_top_words(model, feature_names, n_top_words):\n",
    "    for topic_idx, topic in enumerate(model.components_):\n",
    "        message = \"Topic #%d: \" % topic_idx\n",
    "        message += \" \".join([feature_names[i]\n",
    "                             for i in topic.argsort()[:-n_top_words - 1:-1]])\n",
    "        print(message)\n",
    "    print()"
   ]
  },
  {
   "cell_type": "markdown",
   "metadata": {},
   "source": [
    "Exploratory Data Analysis (EDA)"
   ]
  },
  {
   "cell_type": "code",
   "execution_count": 29,
   "metadata": {},
   "outputs": [
    {
     "name": "stdout",
     "output_type": "stream",
     "text": [
      "Topic #0: said year like peopl say time film new trump work\n",
      "Topic #1: trump clinton said campaign vote state eu parti polit brexit\n",
      "Topic #2: bank eu uk brexit said govern vote leav report year\n",
      "Topic #3: bank film trump said clinton report includ year state new\n",
      "Topic #4: film eu brexit uk vote leav campaign govern parti said\n",
      "Topic #5: said report year includ peopl use need support govern ask\n",
      "Topic #6: play citi point said time eu end start look right\n",
      "Topic #7: year uk new includ world live report week citi govern\n",
      "Topic #8: citi say report govern peopl support point parti film need\n",
      "Topic #9: uk say play use trump eu includ citi good world\n",
      "\n"
     ]
    }
   ],
   "source": [
    "n_top_words = 10\n",
    "print_top_words(lsa, feature_names, n_top_words)"
   ]
  },
  {
   "cell_type": "code",
   "execution_count": 54,
   "metadata": {},
   "outputs": [
    {
     "name": "stdout",
     "output_type": "stream",
     "text": [
      "Topic #0: bank said year govern uk report new time includ say\n",
      "Topic #1: govern countri said peopl uk year need right support world\n",
      "Topic #2: say peopl like thing work year time know want think\n",
      "Topic #3: eu brexit vote uk said leav campaign govern peopl say\n",
      "Topic #4: trump clinton said state campaign vote peopl polit parti support\n",
      "Topic #5: play citi time point like said look year start good\n",
      "Topic #6: live like year new make end world way time come\n",
      "Topic #7: parti polit vote right brexit peopl chang work like new\n",
      "Topic #8: film play year new like work time make said world\n",
      "Topic #9: said year report use includ peopl new work uk time\n",
      "\n"
     ]
    }
   ],
   "source": [
    "n_top_words = 10\n",
    "print_top_words(lda, feature_names, n_top_words)"
   ]
  },
  {
   "cell_type": "code",
   "execution_count": 58,
   "metadata": {},
   "outputs": [],
   "source": [
    "from sklearn.manifold import TSNE\n",
    "import matplotlib.pyplot as plt"
   ]
  },
  {
   "cell_type": "code",
   "execution_count": 56,
   "metadata": {},
   "outputs": [],
   "source": [
    "tsne = TSNE(n_components=2)\n",
    "tsne_emb = tsne.fit_transform(emd)"
   ]
  },
  {
   "cell_type": "code",
   "execution_count": 65,
   "metadata": {},
   "outputs": [],
   "source": [
    "import nltk\n",
    "nltk.download('punkt')\n",
    "from nltk.tokenize import word_tokenize\n",
    "import string\n",
    "\n",
    "path='news_data'\n",
    "if not os.path.exists(path):\n",
    "    os.mkdir(path)\n",
    "\n",
    "url = \"https://archive.ics.uci.edu/ml/machine-learning-databases/20newsgroups-mld/20_newsgroups.tar.gz\"\n",
    "\n",
    "response = requests.get(url)\n",
    "name = os.path.basename(url)\n",
    "with open(os.path.join(path, name), 'bw') as f:\n",
    "    f.write(response.content)\n"
   ]
  },
  {
   "cell_type": "code",
   "execution_count": 137,
   "metadata": {},
   "outputs": [],
   "source": [
    "def clean_text(text):\n",
    "    # split into words\n",
    "    tokens = word_tokenize(text)\n",
    "    # convert to lower case\n",
    "    tokens = [w.lower() for w in tokens]\n",
    "    # remove punctuation from each word\n",
    "    table = str.maketrans('', '', string.punctuation)\n",
    "    stripped = [w.translate(table) for w in tokens]\n",
    "    # # remove remaining tokens that are not alphabetic\n",
    "    words = [word for word in stripped if word.isalpha()]\n",
    "    # # filter out stop words\n",
    "    from nltk.corpus import stopwords\n",
    "    stop_words = set(stopwords.words('english'))\n",
    "    words = [w for w in words if not w in stop_words]\n",
    "    words = ' '.join(words)\n",
    "    return words"
   ]
  },
  {
   "cell_type": "code",
   "execution_count": 77,
   "metadata": {},
   "outputs": [],
   "source": [
    "TEXT_DIR = 'news_data/20_newsgroups'"
   ]
  },
  {
   "cell_type": "code",
   "execution_count": 158,
   "metadata": {},
   "outputs": [],
   "source": [
    "news_topics = []\n",
    "new_text = []\n",
    "topic_label = []\n",
    "c= 0\n",
    "i = 0\n",
    "for names in sorted(os.listdir(TEXT_DIR)):\n",
    "    c+=1\n",
    "    path = os.path.join(TEXT_DIR, names)\n",
    "    if c < 10:\n",
    "        if os.path.isdir(path):\n",
    "            i+=1\n",
    "            news_topics.append(names)\n",
    "            for fname in sorted(os.listdir(path)):\n",
    "                fpath = os.path.join(path, fname)\n",
    "                with open(fpath, 'rb') as f:\n",
    "                    t = f.read().decode('utf-8',errors='ignore')\n",
    "                    t = clean_text(t)\n",
    "                    new_text.append(t)\n",
    "                    topic_label.append(i)\n",
    "            \n",
    "                    \n",
    "                    \n",
    "    "
   ]
  },
  {
   "cell_type": "code",
   "execution_count": 160,
   "metadata": {},
   "outputs": [
    {
     "name": "stdout",
     "output_type": "stream",
     "text": [
      "Extracting tf-idf features ...\n"
     ]
    }
   ],
   "source": [
    "tfidf_vec_sparse, feature_names = tfidf_vectorizer(new_text, n_features = 100)\n",
    "\n",
    "n_topics = 10\n",
    "from sklearn.decomposition import TruncatedSVD\n",
    "lsa = TruncatedSVD(n_components=n_topics, n_iter=100, random_state=42)\n",
    "# lda = LatentDirichletAllocation(n_components=n_topics, max_iter=5,\n",
    "#                                 learning_method='online',\n",
    "#                                 learning_offset=50.,\n",
    "#                                 random_state=0)\n",
    "\n",
    "lsa.fit(tfidf_vec_sparse)\n",
    "embding = lsa.transform(tfidf_vec_sparse)\n",
    "\n",
    "# lda.fit(tfidf_vec_sparse)"
   ]
  },
  {
   "cell_type": "code",
   "execution_count": 155,
   "metadata": {},
   "outputs": [
    {
     "data": {
      "text/plain": [
       "(10, 100)"
      ]
     },
     "execution_count": 155,
     "metadata": {},
     "output_type": "execute_result"
    }
   ],
   "source": [
    "lsa.components_.shape"
   ]
  },
  {
   "cell_type": "code",
   "execution_count": 163,
   "metadata": {},
   "outputs": [],
   "source": [
    "tsne = TSNE(n_components=2)\n",
    "tsne_emb = tsne.fit_transform(embding)"
   ]
  },
  {
   "cell_type": "code",
   "execution_count": 169,
   "metadata": {},
   "outputs": [
    {
     "data": {
      "text/plain": [
       "<matplotlib.collections.PathCollection at 0x7fcc0dc91e80>"
      ]
     },
     "execution_count": 169,
     "metadata": {},
     "output_type": "execute_result"
    },
    {
     "data": {
      "image/png": "[encoded data removed]",
      "text/plain": [
       "<Figure size 432x288 with 1 Axes>"
      ]
     },
     "metadata": {
      "needs_background": "light"
     },
     "output_type": "display_data"
    }
   ],
   "source": [
    "plt.scatter(tsne_emb[:,0], tsne_emb[:, 1], c = topic_label, cmap='hsv')"
   ]
  },
  {
   "cell_type": "code",
   "execution_count": null,
   "metadata": {},
   "outputs": [],
   "source": [
    "from sklearn.manifold import MDS\n",
    "mds = MDS(n_components=2)\n",
    "mds_emb = mds.fit_transform(embding)\n",
    "\n",
    "plt.scatter(mds_emb[:,0], mds_emb[:, 1], c = topic_label, cmap='hsv')"
   ]
  },
  {
   "cell_type": "code",
   "execution_count": null,
   "metadata": {},
   "outputs": [],
   "source": []
  }
 ],
 "metadata": {
  "kernelspec": {
   "display_name": "Python 3",
   "language": "python",
   "name": "python3"
  },
  "language_info": {
   "codemirror_mode": {
    "name": "ipython",
    "version": 3
   },
   "file_extension": ".py",
   "mimetype": "text/x-python",
   "name": "python",
   "nbconvert_exporter": "python",
   "pygments_lexer": "ipython3",
   "version": "3.8.5"
  }
 },
 "nbformat": 4,
 "nbformat_minor": 4
}
